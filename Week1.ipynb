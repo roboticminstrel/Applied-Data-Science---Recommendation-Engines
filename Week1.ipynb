{
 "cells": [
  {
   "cell_type": "code",
   "execution_count": 12,
   "metadata": {},
   "outputs": [
    {
     "data": {
      "text/plain": [
       "Compiled from boardgamegeek.com by Matt Borthwick     272.0\n",
       "gameID                                               9217.0\n",
       "rating                                                  1.0\n",
       "Name: 1, dtype: float64"
      ]
     },
     "execution_count": 12,
     "metadata": {},
     "output_type": "execute_result"
    }
   ],
   "source": [
    "import pandas as pd\n",
    "import numpy as np\n",
    "\n",
    "elite = pd.read_csv('boardgame-elite-users.csv')\n",
    "frequent = pd.read_csv('boardgame-frequent-users.csv')\n",
    "titles = pd.read_csv('boardgame-titles.csv')\n",
    "elite.rename({'Compiled from boardgamegeek.com by Matt Borthwick':'Col1'})\n",
    "elite.iloc[1].head()"
   ]
  }
 ],
 "metadata": {
  "kernelspec": {
   "display_name": "Python 3",
   "language": "python",
   "name": "python3"
  },
  "language_info": {
   "codemirror_mode": {
    "name": "ipython",
    "version": 3
   },
   "file_extension": ".py",
   "mimetype": "text/x-python",
   "name": "python",
   "nbconvert_exporter": "python",
   "pygments_lexer": "ipython3",
   "version": "3.6.3"
  }
 },
 "nbformat": 4,
 "nbformat_minor": 2
}
